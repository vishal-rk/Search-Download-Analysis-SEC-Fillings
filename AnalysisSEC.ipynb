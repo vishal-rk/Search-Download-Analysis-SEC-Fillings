{
 "cells": [
  {
   "cell_type": "code",
   "execution_count": 15,
   "metadata": {},
   "outputs": [],
   "source": [
    "import pandas as pd\n",
    "import numpy as np\n",
    "import json"
   ]
  },
  {
   "cell_type": "code",
   "execution_count": 4,
   "metadata": {},
   "outputs": [
    {
     "name": "stdout",
     "output_type": "stream",
     "text": [
      "Defaulting to user installation because normal site-packages is not writeable\n",
      "Requirement already satisfied: requests in c:\\programdata\\anaconda3\\lib\\site-packages (2.31.0)\n",
      "Requirement already satisfied: charset-normalizer<4,>=2 in c:\\users\\visha\\appdata\\roaming\\python\\python311\\site-packages (from requests) (3.3.2)\n",
      "Requirement already satisfied: idna<4,>=2.5 in c:\\programdata\\anaconda3\\lib\\site-packages (from requests) (3.4)\n",
      "Requirement already satisfied: urllib3<3,>=1.21.1 in c:\\programdata\\anaconda3\\lib\\site-packages (from requests) (1.26.16)\n",
      "Requirement already satisfied: certifi>=2017.4.17 in c:\\programdata\\anaconda3\\lib\\site-packages (from requests) (2023.7.22)\n"
     ]
    }
   ],
   "source": [
    "!pip install requests"
   ]
  },
  {
   "cell_type": "code",
   "execution_count": 6,
   "metadata": {},
   "outputs": [],
   "source": [
    "from bs4 import BeautifulSoup\n",
    "import requests\n",
    "import re"
   ]
  },
  {
   "cell_type": "code",
   "execution_count": 8,
   "metadata": {},
   "outputs": [
    {
     "data": {
      "text/plain": [
       "'https://data.sec.gov/submissions/CIK0000718877.json'"
      ]
     },
     "execution_count": 8,
     "metadata": {},
     "output_type": "execute_result"
    }
   ],
   "source": [
    "CIK = 718877\n",
    "# preparation of input data, using ticker and CIK set earlier\n",
    "url = f\"https://data.sec.gov/submissions/CIK{str(CIK).zfill(10)}.json\"\n",
    "url"
   ]
  },
  {
   "cell_type": "code",
   "execution_count": 9,
   "metadata": {},
   "outputs": [
    {
     "data": {
      "text/plain": [
       "dict_keys(['cik', 'entityType', 'sic', 'sicDescription', 'insiderTransactionForOwnerExists', 'insiderTransactionForIssuerExists', 'name', 'tickers', 'exchanges', 'ein', 'description', 'website', 'investorWebsite', 'category', 'fiscalYearEnd', 'stateOfIncorporation', 'stateOfIncorporationDescription', 'addresses', 'phone', 'flags', 'formerNames', 'filings'])"
      ]
     },
     "execution_count": 9,
     "metadata": {},
     "output_type": "execute_result"
    }
   ],
   "source": [
    "import requests\n",
    "header = {\n",
    "  \"User-Agent\": \"vishalrk94@gmail.com\"#, # remaining fields are optional\n",
    "#    \"Accept-Encoding\": \"gzip, deflate\",\n",
    "#    \"Host\": \"data.sec.gov\"\n",
    "}\n",
    "\n",
    "company_filings = requests.get(url, headers=header).json()\n",
    "company_filings.keys()"
   ]
  },
  {
   "cell_type": "code",
   "execution_count": 10,
   "metadata": {},
   "outputs": [
    {
     "data": {
      "text/plain": [
       "{'mailing': {'street1': '2701 OLYMPIC BOULEVARD',\n",
       "  'street2': 'BUILDING B',\n",
       "  'city': 'SANTA MONICA',\n",
       "  'stateOrCountry': 'CA',\n",
       "  'zipCode': '90404',\n",
       "  'stateOrCountryDescription': 'CA'},\n",
       " 'business': {'street1': '2701 OLYMPIC BOULEVARD',\n",
       "  'street2': 'BUILDING B',\n",
       "  'city': 'SANTA MONICA',\n",
       "  'stateOrCountry': 'CA',\n",
       "  'zipCode': '90404',\n",
       "  'stateOrCountryDescription': 'CA'}}"
      ]
     },
     "execution_count": 10,
     "metadata": {},
     "output_type": "execute_result"
    }
   ],
   "source": [
    "company_filings[\"addresses\"]"
   ]
  },
  {
   "cell_type": "code",
   "execution_count": 13,
   "metadata": {},
   "outputs": [
    {
     "data": {
      "text/plain": [
       "dict_keys(['accessionNumber', 'filingDate', 'reportDate', 'acceptanceDateTime', 'act', 'form', 'fileNumber', 'filmNumber', 'items', 'size', 'isXBRL', 'isInlineXBRL', 'primaryDocument', 'primaryDocDescription'])"
      ]
     },
     "execution_count": 13,
     "metadata": {},
     "output_type": "execute_result"
    }
   ],
   "source": [
    "company_filings[\"filings\"][\"recent\"].keys()"
   ]
  },
  {
   "cell_type": "code",
   "execution_count": 16,
   "metadata": {},
   "outputs": [
    {
     "data": {
      "text/html": [
       "<div>\n",
       "<style scoped>\n",
       "    .dataframe tbody tr th:only-of-type {\n",
       "        vertical-align: middle;\n",
       "    }\n",
       "\n",
       "    .dataframe tbody tr th {\n",
       "        vertical-align: top;\n",
       "    }\n",
       "\n",
       "    .dataframe thead th {\n",
       "        text-align: right;\n",
       "    }\n",
       "</style>\n",
       "<table border=\"1\" class=\"dataframe\">\n",
       "  <thead>\n",
       "    <tr style=\"text-align: right;\">\n",
       "      <th></th>\n",
       "      <th>accessionNumber</th>\n",
       "      <th>filingDate</th>\n",
       "      <th>reportDate</th>\n",
       "      <th>acceptanceDateTime</th>\n",
       "      <th>act</th>\n",
       "      <th>form</th>\n",
       "      <th>fileNumber</th>\n",
       "      <th>filmNumber</th>\n",
       "      <th>items</th>\n",
       "      <th>size</th>\n",
       "      <th>isXBRL</th>\n",
       "      <th>isInlineXBRL</th>\n",
       "      <th>primaryDocument</th>\n",
       "      <th>primaryDocDescription</th>\n",
       "    </tr>\n",
       "  </thead>\n",
       "  <tbody>\n",
       "    <tr>\n",
       "      <th>0</th>\n",
       "      <td>0000950170-24-020392</td>\n",
       "      <td>2024-02-26</td>\n",
       "      <td>2024-02-22</td>\n",
       "      <td>2024-02-26T18:08:36.000Z</td>\n",
       "      <td>34</td>\n",
       "      <td>4</td>\n",
       "      <td>001-39652</td>\n",
       "      <td>24680912</td>\n",
       "      <td></td>\n",
       "      <td>11387</td>\n",
       "      <td>0</td>\n",
       "      <td>0</td>\n",
       "      <td>xslF345X05/ownership.xml</td>\n",
       "      <td>4</td>\n",
       "    </tr>\n",
       "    <tr>\n",
       "      <th>1</th>\n",
       "      <td>0001193125-23-279910</td>\n",
       "      <td>2023-11-17</td>\n",
       "      <td></td>\n",
       "      <td>2023-11-17T17:15:25.000Z</td>\n",
       "      <td></td>\n",
       "      <td>SC 13G/A</td>\n",
       "      <td></td>\n",
       "      <td></td>\n",
       "      <td></td>\n",
       "      <td>88861</td>\n",
       "      <td>0</td>\n",
       "      <td>0</td>\n",
       "      <td>d601862dsc13ga.htm</td>\n",
       "      <td>SC 13G/A</td>\n",
       "    </tr>\n",
       "    <tr>\n",
       "      <th>2</th>\n",
       "      <td>0001104659-23-110841</td>\n",
       "      <td>2023-10-23</td>\n",
       "      <td></td>\n",
       "      <td>2023-10-23T17:25:43.000Z</td>\n",
       "      <td>34</td>\n",
       "      <td>15-12G</td>\n",
       "      <td>001-15839</td>\n",
       "      <td>231340646</td>\n",
       "      <td></td>\n",
       "      <td>19406</td>\n",
       "      <td>0</td>\n",
       "      <td>0</td>\n",
       "      <td>tm2328977d1_1512g.htm</td>\n",
       "      <td>15-12G</td>\n",
       "    </tr>\n",
       "    <tr>\n",
       "      <th>3</th>\n",
       "      <td>0001104659-23-110576</td>\n",
       "      <td>2023-10-23</td>\n",
       "      <td></td>\n",
       "      <td>2023-10-20T17:52:30.000Z</td>\n",
       "      <td>33</td>\n",
       "      <td>S-8 POS</td>\n",
       "      <td>002-86881</td>\n",
       "      <td>231337902</td>\n",
       "      <td></td>\n",
       "      <td>47099</td>\n",
       "      <td>0</td>\n",
       "      <td>0</td>\n",
       "      <td>tm2328886d25_s8pos.htm</td>\n",
       "      <td>S-8 POS</td>\n",
       "    </tr>\n",
       "    <tr>\n",
       "      <th>4</th>\n",
       "      <td>0001104659-23-110575</td>\n",
       "      <td>2023-10-23</td>\n",
       "      <td></td>\n",
       "      <td>2023-10-20T17:52:04.000Z</td>\n",
       "      <td>33</td>\n",
       "      <td>S-8 POS</td>\n",
       "      <td>002-94592</td>\n",
       "      <td>231337901</td>\n",
       "      <td></td>\n",
       "      <td>47187</td>\n",
       "      <td>0</td>\n",
       "      <td>0</td>\n",
       "      <td>tm2328886d24_s8pos.htm</td>\n",
       "      <td>S-8 POS</td>\n",
       "    </tr>\n",
       "    <tr>\n",
       "      <th>...</th>\n",
       "      <td>...</td>\n",
       "      <td>...</td>\n",
       "      <td>...</td>\n",
       "      <td>...</td>\n",
       "      <td>...</td>\n",
       "      <td>...</td>\n",
       "      <td>...</td>\n",
       "      <td>...</td>\n",
       "      <td>...</td>\n",
       "      <td>...</td>\n",
       "      <td>...</td>\n",
       "      <td>...</td>\n",
       "      <td>...</td>\n",
       "      <td>...</td>\n",
       "    </tr>\n",
       "    <tr>\n",
       "      <th>995</th>\n",
       "      <td>0001308179-12-000106</td>\n",
       "      <td>2012-04-24</td>\n",
       "      <td>2012-04-24</td>\n",
       "      <td>2012-04-24T17:22:24.000Z</td>\n",
       "      <td>34</td>\n",
       "      <td>DEF 14A</td>\n",
       "      <td>001-15839</td>\n",
       "      <td>12776811</td>\n",
       "      <td></td>\n",
       "      <td>5440058</td>\n",
       "      <td>0</td>\n",
       "      <td>0</td>\n",
       "      <td>lactivisionblizzard_def14a.htm</td>\n",
       "      <td>ACTIVISION BLIZZARD, INC. - DEF 14A</td>\n",
       "    </tr>\n",
       "    <tr>\n",
       "      <th>996</th>\n",
       "      <td>0001352027-12-000024</td>\n",
       "      <td>2012-03-19</td>\n",
       "      <td>2012-03-15</td>\n",
       "      <td>2012-03-19T17:42:09.000Z</td>\n",
       "      <td></td>\n",
       "      <td>4</td>\n",
       "      <td></td>\n",
       "      <td></td>\n",
       "      <td></td>\n",
       "      <td>9208</td>\n",
       "      <td>0</td>\n",
       "      <td>0</td>\n",
       "      <td>xslF345X03/edgar.xml</td>\n",
       "      <td>PRIMARY DOCUMENT</td>\n",
       "    </tr>\n",
       "    <tr>\n",
       "      <th>997</th>\n",
       "      <td>0001352027-12-000023</td>\n",
       "      <td>2012-03-19</td>\n",
       "      <td>2012-03-15</td>\n",
       "      <td>2012-03-19T17:23:10.000Z</td>\n",
       "      <td></td>\n",
       "      <td>4</td>\n",
       "      <td></td>\n",
       "      <td></td>\n",
       "      <td></td>\n",
       "      <td>9272</td>\n",
       "      <td>0</td>\n",
       "      <td>0</td>\n",
       "      <td>xslF345X03/edgar.xml</td>\n",
       "      <td>PRIMARY DOCUMENT</td>\n",
       "    </tr>\n",
       "    <tr>\n",
       "      <th>998</th>\n",
       "      <td>0001104659-12-019245</td>\n",
       "      <td>2012-03-19</td>\n",
       "      <td>2012-03-15</td>\n",
       "      <td>2012-03-19T17:17:38.000Z</td>\n",
       "      <td>34</td>\n",
       "      <td>8-K</td>\n",
       "      <td>001-15839</td>\n",
       "      <td>12701422</td>\n",
       "      <td>5.02</td>\n",
       "      <td>40318</td>\n",
       "      <td>0</td>\n",
       "      <td>0</td>\n",
       "      <td>a12-7498_18k.htm</td>\n",
       "      <td>8-K</td>\n",
       "    </tr>\n",
       "    <tr>\n",
       "      <th>999</th>\n",
       "      <td>0001104659-12-018951</td>\n",
       "      <td>2012-03-16</td>\n",
       "      <td>2012-03-12</td>\n",
       "      <td>2012-03-16T16:30:55.000Z</td>\n",
       "      <td>34</td>\n",
       "      <td>8-K</td>\n",
       "      <td>001-15839</td>\n",
       "      <td>12698041</td>\n",
       "      <td>5.02,9.01</td>\n",
       "      <td>39579</td>\n",
       "      <td>0</td>\n",
       "      <td>0</td>\n",
       "      <td>a12-7162_18k.htm</td>\n",
       "      <td>8-K</td>\n",
       "    </tr>\n",
       "  </tbody>\n",
       "</table>\n",
       "<p>1000 rows × 14 columns</p>\n",
       "</div>"
      ],
      "text/plain": [
       "          accessionNumber  filingDate  reportDate        acceptanceDateTime  \\\n",
       "0    0000950170-24-020392  2024-02-26  2024-02-22  2024-02-26T18:08:36.000Z   \n",
       "1    0001193125-23-279910  2023-11-17              2023-11-17T17:15:25.000Z   \n",
       "2    0001104659-23-110841  2023-10-23              2023-10-23T17:25:43.000Z   \n",
       "3    0001104659-23-110576  2023-10-23              2023-10-20T17:52:30.000Z   \n",
       "4    0001104659-23-110575  2023-10-23              2023-10-20T17:52:04.000Z   \n",
       "..                    ...         ...         ...                       ...   \n",
       "995  0001308179-12-000106  2012-04-24  2012-04-24  2012-04-24T17:22:24.000Z   \n",
       "996  0001352027-12-000024  2012-03-19  2012-03-15  2012-03-19T17:42:09.000Z   \n",
       "997  0001352027-12-000023  2012-03-19  2012-03-15  2012-03-19T17:23:10.000Z   \n",
       "998  0001104659-12-019245  2012-03-19  2012-03-15  2012-03-19T17:17:38.000Z   \n",
       "999  0001104659-12-018951  2012-03-16  2012-03-12  2012-03-16T16:30:55.000Z   \n",
       "\n",
       "    act      form fileNumber filmNumber      items     size  isXBRL  \\\n",
       "0    34         4  001-39652   24680912               11387       0   \n",
       "1        SC 13G/A                                     88861       0   \n",
       "2    34    15-12G  001-15839  231340646               19406       0   \n",
       "3    33   S-8 POS  002-86881  231337902               47099       0   \n",
       "4    33   S-8 POS  002-94592  231337901               47187       0   \n",
       "..   ..       ...        ...        ...        ...      ...     ...   \n",
       "995  34   DEF 14A  001-15839   12776811             5440058       0   \n",
       "996             4                                      9208       0   \n",
       "997             4                                      9272       0   \n",
       "998  34       8-K  001-15839   12701422       5.02    40318       0   \n",
       "999  34       8-K  001-15839   12698041  5.02,9.01    39579       0   \n",
       "\n",
       "     isInlineXBRL                 primaryDocument  \\\n",
       "0               0        xslF345X05/ownership.xml   \n",
       "1               0              d601862dsc13ga.htm   \n",
       "2               0           tm2328977d1_1512g.htm   \n",
       "3               0          tm2328886d25_s8pos.htm   \n",
       "4               0          tm2328886d24_s8pos.htm   \n",
       "..            ...                             ...   \n",
       "995             0  lactivisionblizzard_def14a.htm   \n",
       "996             0            xslF345X03/edgar.xml   \n",
       "997             0            xslF345X03/edgar.xml   \n",
       "998             0                a12-7498_18k.htm   \n",
       "999             0                a12-7162_18k.htm   \n",
       "\n",
       "                   primaryDocDescription  \n",
       "0                                      4  \n",
       "1                               SC 13G/A  \n",
       "2                                 15-12G  \n",
       "3                                S-8 POS  \n",
       "4                                S-8 POS  \n",
       "..                                   ...  \n",
       "995  ACTIVISION BLIZZARD, INC. - DEF 14A  \n",
       "996                     PRIMARY DOCUMENT  \n",
       "997                     PRIMARY DOCUMENT  \n",
       "998                                  8-K  \n",
       "999                                  8-K  \n",
       "\n",
       "[1000 rows x 14 columns]"
      ]
     },
     "execution_count": 16,
     "metadata": {},
     "output_type": "execute_result"
    }
   ],
   "source": [
    "company_filings_df = pd.DataFrame(company_filings[\"filings\"][\"recent\"])\n",
    "company_filings_df"
   ]
  },
  {
   "cell_type": "code",
   "execution_count": 17,
   "metadata": {},
   "outputs": [
    {
     "data": {
      "text/html": [
       "<div>\n",
       "<style scoped>\n",
       "    .dataframe tbody tr th:only-of-type {\n",
       "        vertical-align: middle;\n",
       "    }\n",
       "\n",
       "    .dataframe tbody tr th {\n",
       "        vertical-align: top;\n",
       "    }\n",
       "\n",
       "    .dataframe thead th {\n",
       "        text-align: right;\n",
       "    }\n",
       "</style>\n",
       "<table border=\"1\" class=\"dataframe\">\n",
       "  <thead>\n",
       "    <tr style=\"text-align: right;\">\n",
       "      <th></th>\n",
       "      <th>accessionNumber</th>\n",
       "      <th>filingDate</th>\n",
       "      <th>reportDate</th>\n",
       "      <th>acceptanceDateTime</th>\n",
       "      <th>act</th>\n",
       "      <th>form</th>\n",
       "      <th>fileNumber</th>\n",
       "      <th>filmNumber</th>\n",
       "      <th>items</th>\n",
       "      <th>size</th>\n",
       "      <th>isXBRL</th>\n",
       "      <th>isInlineXBRL</th>\n",
       "      <th>primaryDocument</th>\n",
       "      <th>primaryDocDescription</th>\n",
       "    </tr>\n",
       "  </thead>\n",
       "  <tbody>\n",
       "    <tr>\n",
       "      <th>140</th>\n",
       "      <td>0001628280-23-004842</td>\n",
       "      <td>2023-02-23</td>\n",
       "      <td>2022-12-31</td>\n",
       "      <td>2023-02-23T16:25:20.000Z</td>\n",
       "      <td>34</td>\n",
       "      <td>10-K</td>\n",
       "      <td>001-15839</td>\n",
       "      <td>23660033</td>\n",
       "      <td></td>\n",
       "      <td>19742543</td>\n",
       "      <td>1</td>\n",
       "      <td>1</td>\n",
       "      <td>atvi-20221231.htm</td>\n",
       "      <td>10-K</td>\n",
       "    </tr>\n",
       "    <tr>\n",
       "      <th>215</th>\n",
       "      <td>0001628280-22-003992</td>\n",
       "      <td>2022-02-25</td>\n",
       "      <td>2021-12-31</td>\n",
       "      <td>2022-02-25T16:21:05.000Z</td>\n",
       "      <td>34</td>\n",
       "      <td>10-K</td>\n",
       "      <td>001-15839</td>\n",
       "      <td>22680355</td>\n",
       "      <td></td>\n",
       "      <td>20054481</td>\n",
       "      <td>1</td>\n",
       "      <td>1</td>\n",
       "      <td>atvi-20211231.htm</td>\n",
       "      <td>10-K</td>\n",
       "    </tr>\n",
       "    <tr>\n",
       "      <th>294</th>\n",
       "      <td>0001628280-21-002828</td>\n",
       "      <td>2021-02-23</td>\n",
       "      <td>2020-12-31</td>\n",
       "      <td>2021-02-23T16:19:41.000Z</td>\n",
       "      <td>34</td>\n",
       "      <td>10-K</td>\n",
       "      <td>001-15839</td>\n",
       "      <td>21665705</td>\n",
       "      <td></td>\n",
       "      <td>18180937</td>\n",
       "      <td>1</td>\n",
       "      <td>1</td>\n",
       "      <td>atvi-20201231.htm</td>\n",
       "      <td>10-K</td>\n",
       "    </tr>\n",
       "    <tr>\n",
       "      <th>359</th>\n",
       "      <td>0000718877-20-000003</td>\n",
       "      <td>2020-02-27</td>\n",
       "      <td>2019-12-31</td>\n",
       "      <td>2020-02-27T15:23:29.000Z</td>\n",
       "      <td>34</td>\n",
       "      <td>10-K</td>\n",
       "      <td>001-15839</td>\n",
       "      <td>20661410</td>\n",
       "      <td></td>\n",
       "      <td>20841056</td>\n",
       "      <td>1</td>\n",
       "      <td>1</td>\n",
       "      <td>atvi-12312019x10xk.htm</td>\n",
       "      <td>10-K</td>\n",
       "    </tr>\n",
       "    <tr>\n",
       "      <th>429</th>\n",
       "      <td>0001047469-19-000788</td>\n",
       "      <td>2019-02-28</td>\n",
       "      <td>2018-12-31</td>\n",
       "      <td>2019-02-28T16:25:21.000Z</td>\n",
       "      <td>34</td>\n",
       "      <td>10-K</td>\n",
       "      <td>001-15839</td>\n",
       "      <td>19643670</td>\n",
       "      <td></td>\n",
       "      <td>18401887</td>\n",
       "      <td>1</td>\n",
       "      <td>0</td>\n",
       "      <td>a2237840z10-k.htm</td>\n",
       "      <td>10-K</td>\n",
       "    </tr>\n",
       "    <tr>\n",
       "      <th>485</th>\n",
       "      <td>0001047469-18-001114</td>\n",
       "      <td>2018-02-27</td>\n",
       "      <td>2017-12-31</td>\n",
       "      <td>2018-02-27T16:43:26.000Z</td>\n",
       "      <td>34</td>\n",
       "      <td>10-K</td>\n",
       "      <td>001-15839</td>\n",
       "      <td>18645778</td>\n",
       "      <td></td>\n",
       "      <td>13581896</td>\n",
       "      <td>1</td>\n",
       "      <td>0</td>\n",
       "      <td>a2234634z10-k.htm</td>\n",
       "      <td>10-K</td>\n",
       "    </tr>\n",
       "    <tr>\n",
       "      <th>558</th>\n",
       "      <td>0001047469-17-001072</td>\n",
       "      <td>2017-02-28</td>\n",
       "      <td>2016-12-31</td>\n",
       "      <td>2017-02-28T17:25:26.000Z</td>\n",
       "      <td>34</td>\n",
       "      <td>10-K</td>\n",
       "      <td>001-15839</td>\n",
       "      <td>17649453</td>\n",
       "      <td></td>\n",
       "      <td>14781835</td>\n",
       "      <td>1</td>\n",
       "      <td>0</td>\n",
       "      <td>a2230993z10-k.htm</td>\n",
       "      <td>10-K</td>\n",
       "    </tr>\n",
       "    <tr>\n",
       "      <th>667</th>\n",
       "      <td>0001047469-16-010584</td>\n",
       "      <td>2016-02-29</td>\n",
       "      <td>2015-12-31</td>\n",
       "      <td>2016-02-29T16:31:30.000Z</td>\n",
       "      <td>34</td>\n",
       "      <td>10-K</td>\n",
       "      <td>001-15839</td>\n",
       "      <td>161468264</td>\n",
       "      <td></td>\n",
       "      <td>12394854</td>\n",
       "      <td>1</td>\n",
       "      <td>0</td>\n",
       "      <td>a2227483z10-k.htm</td>\n",
       "      <td>10-K</td>\n",
       "    </tr>\n",
       "    <tr>\n",
       "      <th>763</th>\n",
       "      <td>0001047469-15-001298</td>\n",
       "      <td>2015-02-26</td>\n",
       "      <td>2014-12-31</td>\n",
       "      <td>2015-02-26T17:04:02.000Z</td>\n",
       "      <td>34</td>\n",
       "      <td>10-K</td>\n",
       "      <td>001-15839</td>\n",
       "      <td>15653513</td>\n",
       "      <td></td>\n",
       "      <td>17206902</td>\n",
       "      <td>1</td>\n",
       "      <td>0</td>\n",
       "      <td>a2223239z10-k.htm</td>\n",
       "      <td>10-K</td>\n",
       "    </tr>\n",
       "    <tr>\n",
       "      <th>838</th>\n",
       "      <td>0001047469-14-001688</td>\n",
       "      <td>2014-03-03</td>\n",
       "      <td>2013-12-31</td>\n",
       "      <td>2014-03-03T16:34:13.000Z</td>\n",
       "      <td>34</td>\n",
       "      <td>10-K</td>\n",
       "      <td>001-15839</td>\n",
       "      <td>14660777</td>\n",
       "      <td></td>\n",
       "      <td>17079256</td>\n",
       "      <td>1</td>\n",
       "      <td>0</td>\n",
       "      <td>a2218641z10-k.htm</td>\n",
       "      <td>10-K</td>\n",
       "    </tr>\n",
       "    <tr>\n",
       "      <th>941</th>\n",
       "      <td>0001047469-13-001506</td>\n",
       "      <td>2013-02-22</td>\n",
       "      <td>2012-12-31</td>\n",
       "      <td>2013-02-22T16:38:44.000Z</td>\n",
       "      <td>34</td>\n",
       "      <td>10-K</td>\n",
       "      <td>001-15839</td>\n",
       "      <td>13634748</td>\n",
       "      <td></td>\n",
       "      <td>16042324</td>\n",
       "      <td>1</td>\n",
       "      <td>0</td>\n",
       "      <td>a2213119z10-k.htm</td>\n",
       "      <td>10-K</td>\n",
       "    </tr>\n",
       "  </tbody>\n",
       "</table>\n",
       "</div>"
      ],
      "text/plain": [
       "          accessionNumber  filingDate  reportDate        acceptanceDateTime  \\\n",
       "140  0001628280-23-004842  2023-02-23  2022-12-31  2023-02-23T16:25:20.000Z   \n",
       "215  0001628280-22-003992  2022-02-25  2021-12-31  2022-02-25T16:21:05.000Z   \n",
       "294  0001628280-21-002828  2021-02-23  2020-12-31  2021-02-23T16:19:41.000Z   \n",
       "359  0000718877-20-000003  2020-02-27  2019-12-31  2020-02-27T15:23:29.000Z   \n",
       "429  0001047469-19-000788  2019-02-28  2018-12-31  2019-02-28T16:25:21.000Z   \n",
       "485  0001047469-18-001114  2018-02-27  2017-12-31  2018-02-27T16:43:26.000Z   \n",
       "558  0001047469-17-001072  2017-02-28  2016-12-31  2017-02-28T17:25:26.000Z   \n",
       "667  0001047469-16-010584  2016-02-29  2015-12-31  2016-02-29T16:31:30.000Z   \n",
       "763  0001047469-15-001298  2015-02-26  2014-12-31  2015-02-26T17:04:02.000Z   \n",
       "838  0001047469-14-001688  2014-03-03  2013-12-31  2014-03-03T16:34:13.000Z   \n",
       "941  0001047469-13-001506  2013-02-22  2012-12-31  2013-02-22T16:38:44.000Z   \n",
       "\n",
       "    act  form fileNumber filmNumber items      size  isXBRL  isInlineXBRL  \\\n",
       "140  34  10-K  001-15839   23660033        19742543       1             1   \n",
       "215  34  10-K  001-15839   22680355        20054481       1             1   \n",
       "294  34  10-K  001-15839   21665705        18180937       1             1   \n",
       "359  34  10-K  001-15839   20661410        20841056       1             1   \n",
       "429  34  10-K  001-15839   19643670        18401887       1             0   \n",
       "485  34  10-K  001-15839   18645778        13581896       1             0   \n",
       "558  34  10-K  001-15839   17649453        14781835       1             0   \n",
       "667  34  10-K  001-15839  161468264        12394854       1             0   \n",
       "763  34  10-K  001-15839   15653513        17206902       1             0   \n",
       "838  34  10-K  001-15839   14660777        17079256       1             0   \n",
       "941  34  10-K  001-15839   13634748        16042324       1             0   \n",
       "\n",
       "            primaryDocument primaryDocDescription  \n",
       "140       atvi-20221231.htm                  10-K  \n",
       "215       atvi-20211231.htm                  10-K  \n",
       "294       atvi-20201231.htm                  10-K  \n",
       "359  atvi-12312019x10xk.htm                  10-K  \n",
       "429       a2237840z10-k.htm                  10-K  \n",
       "485       a2234634z10-k.htm                  10-K  \n",
       "558       a2230993z10-k.htm                  10-K  \n",
       "667       a2227483z10-k.htm                  10-K  \n",
       "763       a2223239z10-k.htm                  10-K  \n",
       "838       a2218641z10-k.htm                  10-K  \n",
       "941       a2213119z10-k.htm                  10-K  "
      ]
     },
     "execution_count": 17,
     "metadata": {},
     "output_type": "execute_result"
    }
   ],
   "source": [
    "# filter only Annual reports\n",
    "company_filings_df[company_filings_df.form == \"10-K\"]"
   ]
  },
  {
   "cell_type": "code",
   "execution_count": 18,
   "metadata": {},
   "outputs": [
    {
     "data": {
      "text/plain": [
       "'https://www.sec.gov/Archives/edgar/data/718877/000162828023004842/atvi-20221231.htm'"
      ]
     },
     "execution_count": 18,
     "metadata": {},
     "output_type": "execute_result"
    }
   ],
   "source": [
    "access_number = company_filings_df[company_filings_df.form == \"10-K\"].accessionNumber.values[0].replace(\"-\", \"\")\n",
    "#access_number = 162828022003992\n",
    "file_name = company_filings_df[company_filings_df.form == \"10-K\"].primaryDocument.values[0]\n",
    "\n",
    "url = f\"https://www.sec.gov/Archives/edgar/data/{CIK}/{access_number}/{file_name}\"\n",
    "url"
   ]
  },
  {
   "cell_type": "code",
   "execution_count": 19,
   "metadata": {},
   "outputs": [],
   "source": [
    "def download_edgar_filing(cik, filing_type, dateb):\n",
    "    # Step 1: Search for the company filings\n",
    "    search_url = f\"https://www.sec.gov/cgi-bin/browse-edgar?action=getcompany&CIK={cik}&type={filing_type}&dateb={dateb}&owner=exclude&output=xml&count=100\"\n",
    "    headers = {\n",
    "        \"User-Agent\": \"vishalrk94@gmail.com\"\n",
    "    }\n",
    "    response = requests.get(search_url, headers=headers)\n",
    "    if response.status_code != 200:\n",
    "        print(f\"Failed to search for filings: {response.status_code}\")\n",
    "        return\n",
    "    soup = BeautifulSoup(response.content, 'xml')\n",
    "    \n",
    "    # Step 2: Get the URLs of all filings\n",
    "    filing_hrefs = soup.find_all('filingHREF')\n",
    "    if not filing_hrefs:\n",
    "        print(\"No filings found\")\n",
    "        return\n",
    "\n",
    "    for i, filing_href in enumerate(filing_hrefs, start=1):\n",
    "        filing_url = filing_href.text if filing_href.text.startswith('https://') else \"https://www.sec.gov\" + filing_href.text\n",
    "\n",
    "        # Step 3: Get the URL of the .txt file\n",
    "        response = requests.get(filing_url, headers=headers)\n",
    "        soup = BeautifulSoup(response.content, 'html.parser')\n",
    "        txt_url = \"https://www.sec.gov\" + soup.find('a', attrs={'href': re.compile(\"\\.txt$\")})['href']\n",
    "\n",
    "        # Step 4: Download the .txt file\n",
    "        response = requests.get(txt_url, headers=headers)\n",
    "        with open(f'filing_{i}.txt', 'wb') as f:\n",
    "            f.write(response.content)\n",
    "\n",
    "# Usage\n",
    "download_edgar_filing('0000718877', '10-K', '20150226')"
   ]
  },
  {
   "cell_type": "code",
   "execution_count": 20,
   "metadata": {},
   "outputs": [
    {
     "data": {
      "text/plain": [
       "'https://data.sec.gov/api/xbrl/companyfacts/CIK0000718877.json'"
      ]
     },
     "execution_count": 20,
     "metadata": {},
     "output_type": "execute_result"
    }
   ],
   "source": [
    "url = f\"https://data.sec.gov/api/xbrl/companyfacts/CIK{str(CIK).zfill(10)}.json\"\n",
    "url"
   ]
  },
  {
   "cell_type": "code",
   "execution_count": 21,
   "metadata": {},
   "outputs": [
    {
     "data": {
      "text/html": [
       "<div>\n",
       "<style scoped>\n",
       "    .dataframe tbody tr th:only-of-type {\n",
       "        vertical-align: middle;\n",
       "    }\n",
       "\n",
       "    .dataframe tbody tr th {\n",
       "        vertical-align: top;\n",
       "    }\n",
       "\n",
       "    .dataframe thead th {\n",
       "        text-align: right;\n",
       "    }\n",
       "</style>\n",
       "<table border=\"1\" class=\"dataframe\">\n",
       "  <thead>\n",
       "    <tr style=\"text-align: right;\">\n",
       "      <th></th>\n",
       "      <th>end</th>\n",
       "      <th>val</th>\n",
       "      <th>accn</th>\n",
       "      <th>fy</th>\n",
       "      <th>fp</th>\n",
       "      <th>form</th>\n",
       "      <th>filed</th>\n",
       "      <th>frame</th>\n",
       "    </tr>\n",
       "  </thead>\n",
       "  <tbody>\n",
       "    <tr>\n",
       "      <th>0</th>\n",
       "      <td>2008-12-31</td>\n",
       "      <td>5495000000</td>\n",
       "      <td>0001104659-09-048234</td>\n",
       "      <td>2009</td>\n",
       "      <td>Q2</td>\n",
       "      <td>10-Q</td>\n",
       "      <td>2009-08-07</td>\n",
       "      <td>NaN</td>\n",
       "    </tr>\n",
       "    <tr>\n",
       "      <th>1</th>\n",
       "      <td>2008-12-31</td>\n",
       "      <td>5259000000</td>\n",
       "      <td>0001104659-09-063352</td>\n",
       "      <td>2009</td>\n",
       "      <td>Q3</td>\n",
       "      <td>10-Q</td>\n",
       "      <td>2009-11-06</td>\n",
       "      <td>NaN</td>\n",
       "    </tr>\n",
       "    <tr>\n",
       "      <th>2</th>\n",
       "      <td>2008-12-31</td>\n",
       "      <td>5259000000</td>\n",
       "      <td>0001047469-10-001649</td>\n",
       "      <td>2009</td>\n",
       "      <td>FY</td>\n",
       "      <td>10-K</td>\n",
       "      <td>2010-03-01</td>\n",
       "      <td>CY2008Q4I</td>\n",
       "    </tr>\n",
       "    <tr>\n",
       "      <th>3</th>\n",
       "      <td>2009-06-30</td>\n",
       "      <td>4510000000</td>\n",
       "      <td>0001104659-09-048234</td>\n",
       "      <td>2009</td>\n",
       "      <td>Q2</td>\n",
       "      <td>10-Q</td>\n",
       "      <td>2009-08-07</td>\n",
       "      <td>CY2009Q2I</td>\n",
       "    </tr>\n",
       "    <tr>\n",
       "      <th>4</th>\n",
       "      <td>2009-09-30</td>\n",
       "      <td>4508000000</td>\n",
       "      <td>0001104659-09-063352</td>\n",
       "      <td>2009</td>\n",
       "      <td>Q3</td>\n",
       "      <td>10-Q</td>\n",
       "      <td>2009-11-06</td>\n",
       "      <td>CY2009Q3I</td>\n",
       "    </tr>\n",
       "    <tr>\n",
       "      <th>...</th>\n",
       "      <td>...</td>\n",
       "      <td>...</td>\n",
       "      <td>...</td>\n",
       "      <td>...</td>\n",
       "      <td>...</td>\n",
       "      <td>...</td>\n",
       "      <td>...</td>\n",
       "      <td>...</td>\n",
       "    </tr>\n",
       "    <tr>\n",
       "      <th>111</th>\n",
       "      <td>2022-12-31</td>\n",
       "      <td>14469000000</td>\n",
       "      <td>0001628280-23-004842</td>\n",
       "      <td>2022</td>\n",
       "      <td>FY</td>\n",
       "      <td>10-K</td>\n",
       "      <td>2023-02-23</td>\n",
       "      <td>NaN</td>\n",
       "    </tr>\n",
       "    <tr>\n",
       "      <th>112</th>\n",
       "      <td>2022-12-31</td>\n",
       "      <td>14469000000</td>\n",
       "      <td>0001628280-23-015712</td>\n",
       "      <td>2023</td>\n",
       "      <td>Q1</td>\n",
       "      <td>10-Q</td>\n",
       "      <td>2023-05-04</td>\n",
       "      <td>NaN</td>\n",
       "    </tr>\n",
       "    <tr>\n",
       "      <th>113</th>\n",
       "      <td>2022-12-31</td>\n",
       "      <td>14469000000</td>\n",
       "      <td>0001628280-23-026269</td>\n",
       "      <td>2023</td>\n",
       "      <td>Q2</td>\n",
       "      <td>10-Q</td>\n",
       "      <td>2023-07-31</td>\n",
       "      <td>CY2022Q4I</td>\n",
       "    </tr>\n",
       "    <tr>\n",
       "      <th>114</th>\n",
       "      <td>2023-03-31</td>\n",
       "      <td>14519000000</td>\n",
       "      <td>0001628280-23-015712</td>\n",
       "      <td>2023</td>\n",
       "      <td>Q1</td>\n",
       "      <td>10-Q</td>\n",
       "      <td>2023-05-04</td>\n",
       "      <td>CY2023Q1I</td>\n",
       "    </tr>\n",
       "    <tr>\n",
       "      <th>115</th>\n",
       "      <td>2023-06-30</td>\n",
       "      <td>15496000000</td>\n",
       "      <td>0001628280-23-026269</td>\n",
       "      <td>2023</td>\n",
       "      <td>Q2</td>\n",
       "      <td>10-Q</td>\n",
       "      <td>2023-07-31</td>\n",
       "      <td>CY2023Q2I</td>\n",
       "    </tr>\n",
       "  </tbody>\n",
       "</table>\n",
       "<p>116 rows × 8 columns</p>\n",
       "</div>"
      ],
      "text/plain": [
       "            end          val                  accn    fy  fp  form  \\\n",
       "0    2008-12-31   5495000000  0001104659-09-048234  2009  Q2  10-Q   \n",
       "1    2008-12-31   5259000000  0001104659-09-063352  2009  Q3  10-Q   \n",
       "2    2008-12-31   5259000000  0001047469-10-001649  2009  FY  10-K   \n",
       "3    2009-06-30   4510000000  0001104659-09-048234  2009  Q2  10-Q   \n",
       "4    2009-09-30   4508000000  0001104659-09-063352  2009  Q3  10-Q   \n",
       "..          ...          ...                   ...   ...  ..   ...   \n",
       "111  2022-12-31  14469000000  0001628280-23-004842  2022  FY  10-K   \n",
       "112  2022-12-31  14469000000  0001628280-23-015712  2023  Q1  10-Q   \n",
       "113  2022-12-31  14469000000  0001628280-23-026269  2023  Q2  10-Q   \n",
       "114  2023-03-31  14519000000  0001628280-23-015712  2023  Q1  10-Q   \n",
       "115  2023-06-30  15496000000  0001628280-23-026269  2023  Q2  10-Q   \n",
       "\n",
       "          filed      frame  \n",
       "0    2009-08-07        NaN  \n",
       "1    2009-11-06        NaN  \n",
       "2    2010-03-01  CY2008Q4I  \n",
       "3    2009-08-07  CY2009Q2I  \n",
       "4    2009-11-06  CY2009Q3I  \n",
       "..          ...        ...  \n",
       "111  2023-02-23        NaN  \n",
       "112  2023-05-04        NaN  \n",
       "113  2023-07-31  CY2022Q4I  \n",
       "114  2023-05-04  CY2023Q1I  \n",
       "115  2023-07-31  CY2023Q2I  \n",
       "\n",
       "[116 rows x 8 columns]"
      ]
     },
     "execution_count": 21,
     "metadata": {},
     "output_type": "execute_result"
    }
   ],
   "source": [
    "company_facts = requests.get(url, headers=header).json()\n",
    "\n",
    "# get the current assets values as reported over time and make it pandas DataFrame\n",
    "curr_assets_df = pd.DataFrame(company_facts[\"facts\"][\"us-gaap\"][\"AssetsCurrent\"][\"units\"][\"USD\"])\n",
    "curr_assets_df"
   ]
  },
  {
   "cell_type": "code",
   "execution_count": 22,
   "metadata": {},
   "outputs": [
    {
     "data": {
      "text/html": [
       "<div>\n",
       "<style scoped>\n",
       "    .dataframe tbody tr th:only-of-type {\n",
       "        vertical-align: middle;\n",
       "    }\n",
       "\n",
       "    .dataframe tbody tr th {\n",
       "        vertical-align: top;\n",
       "    }\n",
       "\n",
       "    .dataframe thead th {\n",
       "        text-align: right;\n",
       "    }\n",
       "</style>\n",
       "<table border=\"1\" class=\"dataframe\">\n",
       "  <thead>\n",
       "    <tr style=\"text-align: right;\">\n",
       "      <th></th>\n",
       "      <th>end</th>\n",
       "      <th>val</th>\n",
       "      <th>accn</th>\n",
       "      <th>fy</th>\n",
       "      <th>fp</th>\n",
       "      <th>form</th>\n",
       "      <th>filed</th>\n",
       "      <th>frame</th>\n",
       "    </tr>\n",
       "  </thead>\n",
       "  <tbody>\n",
       "    <tr>\n",
       "      <th>2</th>\n",
       "      <td>2008-12-31</td>\n",
       "      <td>5259000000</td>\n",
       "      <td>0001047469-10-001649</td>\n",
       "      <td>2009</td>\n",
       "      <td>FY</td>\n",
       "      <td>10-K</td>\n",
       "      <td>2010-03-01</td>\n",
       "      <td>CY2008Q4I</td>\n",
       "    </tr>\n",
       "    <tr>\n",
       "      <th>3</th>\n",
       "      <td>2009-06-30</td>\n",
       "      <td>4510000000</td>\n",
       "      <td>0001104659-09-048234</td>\n",
       "      <td>2009</td>\n",
       "      <td>Q2</td>\n",
       "      <td>10-Q</td>\n",
       "      <td>2009-08-07</td>\n",
       "      <td>CY2009Q2I</td>\n",
       "    </tr>\n",
       "    <tr>\n",
       "      <th>4</th>\n",
       "      <td>2009-09-30</td>\n",
       "      <td>4508000000</td>\n",
       "      <td>0001104659-09-063352</td>\n",
       "      <td>2009</td>\n",
       "      <td>Q3</td>\n",
       "      <td>10-Q</td>\n",
       "      <td>2009-11-06</td>\n",
       "      <td>CY2009Q3I</td>\n",
       "    </tr>\n",
       "    <tr>\n",
       "      <th>9</th>\n",
       "      <td>2009-12-31</td>\n",
       "      <td>5329000000</td>\n",
       "      <td>0001047469-11-001413</td>\n",
       "      <td>2010</td>\n",
       "      <td>FY</td>\n",
       "      <td>10-K</td>\n",
       "      <td>2011-02-25</td>\n",
       "      <td>CY2009Q4I</td>\n",
       "    </tr>\n",
       "    <tr>\n",
       "      <th>10</th>\n",
       "      <td>2010-03-31</td>\n",
       "      <td>4486000000</td>\n",
       "      <td>0001104659-10-026898</td>\n",
       "      <td>2010</td>\n",
       "      <td>Q1</td>\n",
       "      <td>10-Q</td>\n",
       "      <td>2010-05-07</td>\n",
       "      <td>CY2010Q1I</td>\n",
       "    </tr>\n",
       "    <tr>\n",
       "      <th>11</th>\n",
       "      <td>2010-06-30</td>\n",
       "      <td>3968000000</td>\n",
       "      <td>0001104659-10-042753</td>\n",
       "      <td>2010</td>\n",
       "      <td>Q2</td>\n",
       "      <td>10-Q</td>\n",
       "      <td>2010-08-06</td>\n",
       "      <td>CY2010Q2I</td>\n",
       "    </tr>\n",
       "    <tr>\n",
       "      <th>12</th>\n",
       "      <td>2010-09-30</td>\n",
       "      <td>4148000000</td>\n",
       "      <td>0001104659-10-056564</td>\n",
       "      <td>2010</td>\n",
       "      <td>Q3</td>\n",
       "      <td>10-Q</td>\n",
       "      <td>2010-11-05</td>\n",
       "      <td>CY2010Q3I</td>\n",
       "    </tr>\n",
       "    <tr>\n",
       "      <th>17</th>\n",
       "      <td>2010-12-31</td>\n",
       "      <td>5432000000</td>\n",
       "      <td>0001047469-12-001775</td>\n",
       "      <td>2011</td>\n",
       "      <td>FY</td>\n",
       "      <td>10-K</td>\n",
       "      <td>2012-02-28</td>\n",
       "      <td>CY2010Q4I</td>\n",
       "    </tr>\n",
       "    <tr>\n",
       "      <th>18</th>\n",
       "      <td>2011-03-31</td>\n",
       "      <td>4349000000</td>\n",
       "      <td>0001104659-11-027381</td>\n",
       "      <td>2011</td>\n",
       "      <td>Q1</td>\n",
       "      <td>10-Q</td>\n",
       "      <td>2011-05-09</td>\n",
       "      <td>CY2011Q1I</td>\n",
       "    </tr>\n",
       "    <tr>\n",
       "      <th>19</th>\n",
       "      <td>2011-06-30</td>\n",
       "      <td>3954000000</td>\n",
       "      <td>0001104659-11-044296</td>\n",
       "      <td>2011</td>\n",
       "      <td>Q2</td>\n",
       "      <td>10-Q</td>\n",
       "      <td>2011-08-05</td>\n",
       "      <td>CY2011Q2I</td>\n",
       "    </tr>\n",
       "    <tr>\n",
       "      <th>20</th>\n",
       "      <td>2011-09-30</td>\n",
       "      <td>4082000000</td>\n",
       "      <td>0001104659-11-062236</td>\n",
       "      <td>2011</td>\n",
       "      <td>Q3</td>\n",
       "      <td>10-Q</td>\n",
       "      <td>2011-11-09</td>\n",
       "      <td>CY2011Q3I</td>\n",
       "    </tr>\n",
       "    <tr>\n",
       "      <th>26</th>\n",
       "      <td>2011-12-31</td>\n",
       "      <td>5380000000</td>\n",
       "      <td>0001047469-13-001828</td>\n",
       "      <td>2012</td>\n",
       "      <td>FY</td>\n",
       "      <td>10-K/A</td>\n",
       "      <td>2013-02-27</td>\n",
       "      <td>CY2011Q4I</td>\n",
       "    </tr>\n",
       "    <tr>\n",
       "      <th>27</th>\n",
       "      <td>2012-03-31</td>\n",
       "      <td>4566000000</td>\n",
       "      <td>0001104659-12-035264</td>\n",
       "      <td>2012</td>\n",
       "      <td>Q1</td>\n",
       "      <td>10-Q</td>\n",
       "      <td>2012-05-09</td>\n",
       "      <td>CY2012Q1I</td>\n",
       "    </tr>\n",
       "    <tr>\n",
       "      <th>28</th>\n",
       "      <td>2012-06-30</td>\n",
       "      <td>4332000000</td>\n",
       "      <td>0001104659-12-053747</td>\n",
       "      <td>2012</td>\n",
       "      <td>Q2</td>\n",
       "      <td>10-Q</td>\n",
       "      <td>2012-08-02</td>\n",
       "      <td>CY2012Q2I</td>\n",
       "    </tr>\n",
       "    <tr>\n",
       "      <th>29</th>\n",
       "      <td>2012-09-30</td>\n",
       "      <td>4702000000</td>\n",
       "      <td>0001104659-12-075353</td>\n",
       "      <td>2012</td>\n",
       "      <td>Q3</td>\n",
       "      <td>10-Q</td>\n",
       "      <td>2012-11-07</td>\n",
       "      <td>CY2012Q3I</td>\n",
       "    </tr>\n",
       "    <tr>\n",
       "      <th>35</th>\n",
       "      <td>2012-12-31</td>\n",
       "      <td>6274000000</td>\n",
       "      <td>0001047469-14-001688</td>\n",
       "      <td>2013</td>\n",
       "      <td>FY</td>\n",
       "      <td>10-K</td>\n",
       "      <td>2014-03-03</td>\n",
       "      <td>CY2012Q4I</td>\n",
       "    </tr>\n",
       "    <tr>\n",
       "      <th>36</th>\n",
       "      <td>2013-03-31</td>\n",
       "      <td>5803000000</td>\n",
       "      <td>0001104659-13-038868</td>\n",
       "      <td>2013</td>\n",
       "      <td>Q1</td>\n",
       "      <td>10-Q</td>\n",
       "      <td>2013-05-08</td>\n",
       "      <td>CY2013Q1I</td>\n",
       "    </tr>\n",
       "    <tr>\n",
       "      <th>37</th>\n",
       "      <td>2013-06-30</td>\n",
       "      <td>5629000000</td>\n",
       "      <td>0001104659-13-058963</td>\n",
       "      <td>2013</td>\n",
       "      <td>Q2</td>\n",
       "      <td>10-Q</td>\n",
       "      <td>2013-08-01</td>\n",
       "      <td>CY2013Q2I</td>\n",
       "    </tr>\n",
       "    <tr>\n",
       "      <th>38</th>\n",
       "      <td>2013-09-30</td>\n",
       "      <td>8251000000</td>\n",
       "      <td>0001104659-13-081725</td>\n",
       "      <td>2013</td>\n",
       "      <td>Q3</td>\n",
       "      <td>10-Q</td>\n",
       "      <td>2013-11-06</td>\n",
       "      <td>CY2013Q3I</td>\n",
       "    </tr>\n",
       "    <tr>\n",
       "      <th>43</th>\n",
       "      <td>2013-12-31</td>\n",
       "      <td>6241000000</td>\n",
       "      <td>0001047469-15-001298</td>\n",
       "      <td>2014</td>\n",
       "      <td>FY</td>\n",
       "      <td>10-K</td>\n",
       "      <td>2015-02-26</td>\n",
       "      <td>CY2013Q4I</td>\n",
       "    </tr>\n",
       "    <tr>\n",
       "      <th>44</th>\n",
       "      <td>2014-03-31</td>\n",
       "      <td>5694000000</td>\n",
       "      <td>0001104659-14-035223</td>\n",
       "      <td>2014</td>\n",
       "      <td>Q1</td>\n",
       "      <td>10-Q</td>\n",
       "      <td>2014-05-06</td>\n",
       "      <td>CY2014Q1I</td>\n",
       "    </tr>\n",
       "    <tr>\n",
       "      <th>45</th>\n",
       "      <td>2014-06-30</td>\n",
       "      <td>5474000000</td>\n",
       "      <td>0001104659-14-057005</td>\n",
       "      <td>2014</td>\n",
       "      <td>Q2</td>\n",
       "      <td>10-Q</td>\n",
       "      <td>2014-08-05</td>\n",
       "      <td>CY2014Q2I</td>\n",
       "    </tr>\n",
       "    <tr>\n",
       "      <th>46</th>\n",
       "      <td>2014-09-30</td>\n",
       "      <td>5957000000</td>\n",
       "      <td>0001104659-14-076552</td>\n",
       "      <td>2014</td>\n",
       "      <td>Q3</td>\n",
       "      <td>10-Q</td>\n",
       "      <td>2014-11-04</td>\n",
       "      <td>CY2014Q3I</td>\n",
       "    </tr>\n",
       "    <tr>\n",
       "      <th>51</th>\n",
       "      <td>2014-12-31</td>\n",
       "      <td>6541000000</td>\n",
       "      <td>0001047469-16-010584</td>\n",
       "      <td>2015</td>\n",
       "      <td>FY</td>\n",
       "      <td>10-K</td>\n",
       "      <td>2016-02-29</td>\n",
       "      <td>CY2014Q4I</td>\n",
       "    </tr>\n",
       "    <tr>\n",
       "      <th>52</th>\n",
       "      <td>2015-03-31</td>\n",
       "      <td>5863000000</td>\n",
       "      <td>0001104659-15-034878</td>\n",
       "      <td>2015</td>\n",
       "      <td>Q1</td>\n",
       "      <td>10-Q</td>\n",
       "      <td>2015-05-06</td>\n",
       "      <td>CY2015Q1I</td>\n",
       "    </tr>\n",
       "    <tr>\n",
       "      <th>53</th>\n",
       "      <td>2015-06-30</td>\n",
       "      <td>6051000000</td>\n",
       "      <td>0001104659-15-055909</td>\n",
       "      <td>2015</td>\n",
       "      <td>Q2</td>\n",
       "      <td>10-Q</td>\n",
       "      <td>2015-08-04</td>\n",
       "      <td>CY2015Q2I</td>\n",
       "    </tr>\n",
       "    <tr>\n",
       "      <th>54</th>\n",
       "      <td>2015-09-30</td>\n",
       "      <td>6309000000</td>\n",
       "      <td>0001104659-15-076727</td>\n",
       "      <td>2015</td>\n",
       "      <td>Q3</td>\n",
       "      <td>10-Q</td>\n",
       "      <td>2015-11-06</td>\n",
       "      <td>CY2015Q3I</td>\n",
       "    </tr>\n",
       "    <tr>\n",
       "      <th>59</th>\n",
       "      <td>2015-12-31</td>\n",
       "      <td>3387000000</td>\n",
       "      <td>0001047469-17-001072</td>\n",
       "      <td>2016</td>\n",
       "      <td>FY</td>\n",
       "      <td>10-K</td>\n",
       "      <td>2017-02-28</td>\n",
       "      <td>CY2015Q4I</td>\n",
       "    </tr>\n",
       "    <tr>\n",
       "      <th>60</th>\n",
       "      <td>2016-03-31</td>\n",
       "      <td>4008000000</td>\n",
       "      <td>0001104659-16-119270</td>\n",
       "      <td>2016</td>\n",
       "      <td>Q1</td>\n",
       "      <td>10-Q</td>\n",
       "      <td>2016-05-09</td>\n",
       "      <td>CY2016Q1I</td>\n",
       "    </tr>\n",
       "    <tr>\n",
       "      <th>61</th>\n",
       "      <td>2016-06-30</td>\n",
       "      <td>3420000000</td>\n",
       "      <td>0001104659-16-137102</td>\n",
       "      <td>2016</td>\n",
       "      <td>Q2</td>\n",
       "      <td>10-Q</td>\n",
       "      <td>2016-08-04</td>\n",
       "      <td>CY2016Q2I</td>\n",
       "    </tr>\n",
       "    <tr>\n",
       "      <th>62</th>\n",
       "      <td>2016-09-30</td>\n",
       "      <td>5334000000</td>\n",
       "      <td>0001104659-16-154713</td>\n",
       "      <td>2016</td>\n",
       "      <td>Q3</td>\n",
       "      <td>10-Q</td>\n",
       "      <td>2016-11-04</td>\n",
       "      <td>CY2016Q3I</td>\n",
       "    </tr>\n",
       "    <tr>\n",
       "      <th>67</th>\n",
       "      <td>2016-12-31</td>\n",
       "      <td>4830000000</td>\n",
       "      <td>0001047469-18-001114</td>\n",
       "      <td>2017</td>\n",
       "      <td>FY</td>\n",
       "      <td>10-K</td>\n",
       "      <td>2018-02-27</td>\n",
       "      <td>CY2016Q4I</td>\n",
       "    </tr>\n",
       "    <tr>\n",
       "      <th>68</th>\n",
       "      <td>2017-03-31</td>\n",
       "      <td>4356000000</td>\n",
       "      <td>0001104659-17-029920</td>\n",
       "      <td>2017</td>\n",
       "      <td>Q1</td>\n",
       "      <td>10-Q</td>\n",
       "      <td>2017-05-04</td>\n",
       "      <td>CY2017Q1I</td>\n",
       "    </tr>\n",
       "    <tr>\n",
       "      <th>69</th>\n",
       "      <td>2017-06-30</td>\n",
       "      <td>4352000000</td>\n",
       "      <td>0001104659-17-049333</td>\n",
       "      <td>2017</td>\n",
       "      <td>Q2</td>\n",
       "      <td>10-Q</td>\n",
       "      <td>2017-08-03</td>\n",
       "      <td>CY2017Q2I</td>\n",
       "    </tr>\n",
       "    <tr>\n",
       "      <th>70</th>\n",
       "      <td>2017-09-30</td>\n",
       "      <td>5386000000</td>\n",
       "      <td>0001104659-17-065731</td>\n",
       "      <td>2017</td>\n",
       "      <td>Q3</td>\n",
       "      <td>10-Q</td>\n",
       "      <td>2017-11-02</td>\n",
       "      <td>CY2017Q3I</td>\n",
       "    </tr>\n",
       "    <tr>\n",
       "      <th>75</th>\n",
       "      <td>2017-12-31</td>\n",
       "      <td>6520000000</td>\n",
       "      <td>0001047469-19-000788</td>\n",
       "      <td>2018</td>\n",
       "      <td>FY</td>\n",
       "      <td>10-K</td>\n",
       "      <td>2019-02-28</td>\n",
       "      <td>CY2017Q4I</td>\n",
       "    </tr>\n",
       "    <tr>\n",
       "      <th>76</th>\n",
       "      <td>2018-03-31</td>\n",
       "      <td>6410000000</td>\n",
       "      <td>0001104659-18-030305</td>\n",
       "      <td>2018</td>\n",
       "      <td>Q1</td>\n",
       "      <td>10-Q</td>\n",
       "      <td>2018-05-03</td>\n",
       "      <td>CY2018Q1I</td>\n",
       "    </tr>\n",
       "    <tr>\n",
       "      <th>77</th>\n",
       "      <td>2018-06-30</td>\n",
       "      <td>6134000000</td>\n",
       "      <td>0001104659-18-049238</td>\n",
       "      <td>2018</td>\n",
       "      <td>Q2</td>\n",
       "      <td>10-Q</td>\n",
       "      <td>2018-08-02</td>\n",
       "      <td>CY2018Q2I</td>\n",
       "    </tr>\n",
       "    <tr>\n",
       "      <th>78</th>\n",
       "      <td>2018-09-30</td>\n",
       "      <td>4972000000</td>\n",
       "      <td>0001104659-18-067000</td>\n",
       "      <td>2018</td>\n",
       "      <td>Q3</td>\n",
       "      <td>10-Q</td>\n",
       "      <td>2018-11-08</td>\n",
       "      <td>CY2018Q3I</td>\n",
       "    </tr>\n",
       "    <tr>\n",
       "      <th>83</th>\n",
       "      <td>2018-12-31</td>\n",
       "      <td>6106000000</td>\n",
       "      <td>0000718877-20-000003</td>\n",
       "      <td>2019</td>\n",
       "      <td>FY</td>\n",
       "      <td>10-K</td>\n",
       "      <td>2020-02-27</td>\n",
       "      <td>CY2018Q4I</td>\n",
       "    </tr>\n",
       "    <tr>\n",
       "      <th>84</th>\n",
       "      <td>2019-03-31</td>\n",
       "      <td>6037000000</td>\n",
       "      <td>0000718877-19-000004</td>\n",
       "      <td>2019</td>\n",
       "      <td>Q1</td>\n",
       "      <td>10-Q</td>\n",
       "      <td>2019-05-02</td>\n",
       "      <td>CY2019Q1I</td>\n",
       "    </tr>\n",
       "    <tr>\n",
       "      <th>85</th>\n",
       "      <td>2019-06-30</td>\n",
       "      <td>5663000000</td>\n",
       "      <td>0000718877-19-000015</td>\n",
       "      <td>2019</td>\n",
       "      <td>Q2</td>\n",
       "      <td>10-Q</td>\n",
       "      <td>2019-08-08</td>\n",
       "      <td>CY2019Q2I</td>\n",
       "    </tr>\n",
       "    <tr>\n",
       "      <th>86</th>\n",
       "      <td>2019-09-30</td>\n",
       "      <td>6012000000</td>\n",
       "      <td>0000718877-19-000021</td>\n",
       "      <td>2019</td>\n",
       "      <td>Q3</td>\n",
       "      <td>10-Q</td>\n",
       "      <td>2019-11-07</td>\n",
       "      <td>CY2019Q3I</td>\n",
       "    </tr>\n",
       "    <tr>\n",
       "      <th>91</th>\n",
       "      <td>2019-12-31</td>\n",
       "      <td>7292000000</td>\n",
       "      <td>0001628280-21-002828</td>\n",
       "      <td>2020</td>\n",
       "      <td>FY</td>\n",
       "      <td>10-K</td>\n",
       "      <td>2021-02-23</td>\n",
       "      <td>CY2019Q4I</td>\n",
       "    </tr>\n",
       "    <tr>\n",
       "      <th>92</th>\n",
       "      <td>2020-03-31</td>\n",
       "      <td>7119000000</td>\n",
       "      <td>0001628280-20-006454</td>\n",
       "      <td>2020</td>\n",
       "      <td>Q1</td>\n",
       "      <td>10-Q</td>\n",
       "      <td>2020-05-05</td>\n",
       "      <td>CY2020Q1I</td>\n",
       "    </tr>\n",
       "    <tr>\n",
       "      <th>93</th>\n",
       "      <td>2020-06-30</td>\n",
       "      <td>7719000000</td>\n",
       "      <td>0001628280-20-011664</td>\n",
       "      <td>2020</td>\n",
       "      <td>Q2</td>\n",
       "      <td>10-Q</td>\n",
       "      <td>2020-08-04</td>\n",
       "      <td>CY2020Q2I</td>\n",
       "    </tr>\n",
       "    <tr>\n",
       "      <th>94</th>\n",
       "      <td>2020-09-30</td>\n",
       "      <td>9002000000</td>\n",
       "      <td>0001628280-20-015105</td>\n",
       "      <td>2020</td>\n",
       "      <td>Q3</td>\n",
       "      <td>10-Q</td>\n",
       "      <td>2020-10-29</td>\n",
       "      <td>CY2020Q3I</td>\n",
       "    </tr>\n",
       "    <tr>\n",
       "      <th>99</th>\n",
       "      <td>2020-12-31</td>\n",
       "      <td>10565000000</td>\n",
       "      <td>0001628280-22-003992</td>\n",
       "      <td>2021</td>\n",
       "      <td>FY</td>\n",
       "      <td>10-K</td>\n",
       "      <td>2022-02-25</td>\n",
       "      <td>CY2020Q4I</td>\n",
       "    </tr>\n",
       "    <tr>\n",
       "      <th>100</th>\n",
       "      <td>2021-03-31</td>\n",
       "      <td>10922000000</td>\n",
       "      <td>0001628280-21-008889</td>\n",
       "      <td>2021</td>\n",
       "      <td>Q1</td>\n",
       "      <td>10-Q</td>\n",
       "      <td>2021-05-04</td>\n",
       "      <td>CY2021Q1I</td>\n",
       "    </tr>\n",
       "    <tr>\n",
       "      <th>101</th>\n",
       "      <td>2021-06-30</td>\n",
       "      <td>10887000000</td>\n",
       "      <td>0001628280-21-015351</td>\n",
       "      <td>2021</td>\n",
       "      <td>Q2</td>\n",
       "      <td>10-Q</td>\n",
       "      <td>2021-08-03</td>\n",
       "      <td>CY2021Q2I</td>\n",
       "    </tr>\n",
       "    <tr>\n",
       "      <th>102</th>\n",
       "      <td>2021-09-30</td>\n",
       "      <td>11211000000</td>\n",
       "      <td>0001628280-21-021200</td>\n",
       "      <td>2021</td>\n",
       "      <td>Q3</td>\n",
       "      <td>10-Q</td>\n",
       "      <td>2021-11-02</td>\n",
       "      <td>CY2021Q3I</td>\n",
       "    </tr>\n",
       "    <tr>\n",
       "      <th>107</th>\n",
       "      <td>2021-12-31</td>\n",
       "      <td>12556000000</td>\n",
       "      <td>0001628280-23-004842</td>\n",
       "      <td>2022</td>\n",
       "      <td>FY</td>\n",
       "      <td>10-K</td>\n",
       "      <td>2023-02-23</td>\n",
       "      <td>CY2021Q4I</td>\n",
       "    </tr>\n",
       "    <tr>\n",
       "      <th>108</th>\n",
       "      <td>2022-03-31</td>\n",
       "      <td>12486000000</td>\n",
       "      <td>0001628280-22-011987</td>\n",
       "      <td>2022</td>\n",
       "      <td>Q1</td>\n",
       "      <td>10-Q</td>\n",
       "      <td>2022-05-03</td>\n",
       "      <td>CY2022Q1I</td>\n",
       "    </tr>\n",
       "    <tr>\n",
       "      <th>109</th>\n",
       "      <td>2022-06-30</td>\n",
       "      <td>12507000000</td>\n",
       "      <td>0001628280-22-019955</td>\n",
       "      <td>2022</td>\n",
       "      <td>Q2</td>\n",
       "      <td>10-Q</td>\n",
       "      <td>2022-08-01</td>\n",
       "      <td>CY2022Q2I</td>\n",
       "    </tr>\n",
       "    <tr>\n",
       "      <th>110</th>\n",
       "      <td>2022-09-30</td>\n",
       "      <td>13110000000</td>\n",
       "      <td>0001628280-22-028658</td>\n",
       "      <td>2022</td>\n",
       "      <td>Q3</td>\n",
       "      <td>10-Q</td>\n",
       "      <td>2022-11-07</td>\n",
       "      <td>CY2022Q3I</td>\n",
       "    </tr>\n",
       "    <tr>\n",
       "      <th>113</th>\n",
       "      <td>2022-12-31</td>\n",
       "      <td>14469000000</td>\n",
       "      <td>0001628280-23-026269</td>\n",
       "      <td>2023</td>\n",
       "      <td>Q2</td>\n",
       "      <td>10-Q</td>\n",
       "      <td>2023-07-31</td>\n",
       "      <td>CY2022Q4I</td>\n",
       "    </tr>\n",
       "    <tr>\n",
       "      <th>114</th>\n",
       "      <td>2023-03-31</td>\n",
       "      <td>14519000000</td>\n",
       "      <td>0001628280-23-015712</td>\n",
       "      <td>2023</td>\n",
       "      <td>Q1</td>\n",
       "      <td>10-Q</td>\n",
       "      <td>2023-05-04</td>\n",
       "      <td>CY2023Q1I</td>\n",
       "    </tr>\n",
       "    <tr>\n",
       "      <th>115</th>\n",
       "      <td>2023-06-30</td>\n",
       "      <td>15496000000</td>\n",
       "      <td>0001628280-23-026269</td>\n",
       "      <td>2023</td>\n",
       "      <td>Q2</td>\n",
       "      <td>10-Q</td>\n",
       "      <td>2023-07-31</td>\n",
       "      <td>CY2023Q2I</td>\n",
       "    </tr>\n",
       "  </tbody>\n",
       "</table>\n",
       "</div>"
      ],
      "text/plain": [
       "            end          val                  accn    fy  fp    form  \\\n",
       "2    2008-12-31   5259000000  0001047469-10-001649  2009  FY    10-K   \n",
       "3    2009-06-30   4510000000  0001104659-09-048234  2009  Q2    10-Q   \n",
       "4    2009-09-30   4508000000  0001104659-09-063352  2009  Q3    10-Q   \n",
       "9    2009-12-31   5329000000  0001047469-11-001413  2010  FY    10-K   \n",
       "10   2010-03-31   4486000000  0001104659-10-026898  2010  Q1    10-Q   \n",
       "11   2010-06-30   3968000000  0001104659-10-042753  2010  Q2    10-Q   \n",
       "12   2010-09-30   4148000000  0001104659-10-056564  2010  Q3    10-Q   \n",
       "17   2010-12-31   5432000000  0001047469-12-001775  2011  FY    10-K   \n",
       "18   2011-03-31   4349000000  0001104659-11-027381  2011  Q1    10-Q   \n",
       "19   2011-06-30   3954000000  0001104659-11-044296  2011  Q2    10-Q   \n",
       "20   2011-09-30   4082000000  0001104659-11-062236  2011  Q3    10-Q   \n",
       "26   2011-12-31   5380000000  0001047469-13-001828  2012  FY  10-K/A   \n",
       "27   2012-03-31   4566000000  0001104659-12-035264  2012  Q1    10-Q   \n",
       "28   2012-06-30   4332000000  0001104659-12-053747  2012  Q2    10-Q   \n",
       "29   2012-09-30   4702000000  0001104659-12-075353  2012  Q3    10-Q   \n",
       "35   2012-12-31   6274000000  0001047469-14-001688  2013  FY    10-K   \n",
       "36   2013-03-31   5803000000  0001104659-13-038868  2013  Q1    10-Q   \n",
       "37   2013-06-30   5629000000  0001104659-13-058963  2013  Q2    10-Q   \n",
       "38   2013-09-30   8251000000  0001104659-13-081725  2013  Q3    10-Q   \n",
       "43   2013-12-31   6241000000  0001047469-15-001298  2014  FY    10-K   \n",
       "44   2014-03-31   5694000000  0001104659-14-035223  2014  Q1    10-Q   \n",
       "45   2014-06-30   5474000000  0001104659-14-057005  2014  Q2    10-Q   \n",
       "46   2014-09-30   5957000000  0001104659-14-076552  2014  Q3    10-Q   \n",
       "51   2014-12-31   6541000000  0001047469-16-010584  2015  FY    10-K   \n",
       "52   2015-03-31   5863000000  0001104659-15-034878  2015  Q1    10-Q   \n",
       "53   2015-06-30   6051000000  0001104659-15-055909  2015  Q2    10-Q   \n",
       "54   2015-09-30   6309000000  0001104659-15-076727  2015  Q3    10-Q   \n",
       "59   2015-12-31   3387000000  0001047469-17-001072  2016  FY    10-K   \n",
       "60   2016-03-31   4008000000  0001104659-16-119270  2016  Q1    10-Q   \n",
       "61   2016-06-30   3420000000  0001104659-16-137102  2016  Q2    10-Q   \n",
       "62   2016-09-30   5334000000  0001104659-16-154713  2016  Q3    10-Q   \n",
       "67   2016-12-31   4830000000  0001047469-18-001114  2017  FY    10-K   \n",
       "68   2017-03-31   4356000000  0001104659-17-029920  2017  Q1    10-Q   \n",
       "69   2017-06-30   4352000000  0001104659-17-049333  2017  Q2    10-Q   \n",
       "70   2017-09-30   5386000000  0001104659-17-065731  2017  Q3    10-Q   \n",
       "75   2017-12-31   6520000000  0001047469-19-000788  2018  FY    10-K   \n",
       "76   2018-03-31   6410000000  0001104659-18-030305  2018  Q1    10-Q   \n",
       "77   2018-06-30   6134000000  0001104659-18-049238  2018  Q2    10-Q   \n",
       "78   2018-09-30   4972000000  0001104659-18-067000  2018  Q3    10-Q   \n",
       "83   2018-12-31   6106000000  0000718877-20-000003  2019  FY    10-K   \n",
       "84   2019-03-31   6037000000  0000718877-19-000004  2019  Q1    10-Q   \n",
       "85   2019-06-30   5663000000  0000718877-19-000015  2019  Q2    10-Q   \n",
       "86   2019-09-30   6012000000  0000718877-19-000021  2019  Q3    10-Q   \n",
       "91   2019-12-31   7292000000  0001628280-21-002828  2020  FY    10-K   \n",
       "92   2020-03-31   7119000000  0001628280-20-006454  2020  Q1    10-Q   \n",
       "93   2020-06-30   7719000000  0001628280-20-011664  2020  Q2    10-Q   \n",
       "94   2020-09-30   9002000000  0001628280-20-015105  2020  Q3    10-Q   \n",
       "99   2020-12-31  10565000000  0001628280-22-003992  2021  FY    10-K   \n",
       "100  2021-03-31  10922000000  0001628280-21-008889  2021  Q1    10-Q   \n",
       "101  2021-06-30  10887000000  0001628280-21-015351  2021  Q2    10-Q   \n",
       "102  2021-09-30  11211000000  0001628280-21-021200  2021  Q3    10-Q   \n",
       "107  2021-12-31  12556000000  0001628280-23-004842  2022  FY    10-K   \n",
       "108  2022-03-31  12486000000  0001628280-22-011987  2022  Q1    10-Q   \n",
       "109  2022-06-30  12507000000  0001628280-22-019955  2022  Q2    10-Q   \n",
       "110  2022-09-30  13110000000  0001628280-22-028658  2022  Q3    10-Q   \n",
       "113  2022-12-31  14469000000  0001628280-23-026269  2023  Q2    10-Q   \n",
       "114  2023-03-31  14519000000  0001628280-23-015712  2023  Q1    10-Q   \n",
       "115  2023-06-30  15496000000  0001628280-23-026269  2023  Q2    10-Q   \n",
       "\n",
       "          filed      frame  \n",
       "2    2010-03-01  CY2008Q4I  \n",
       "3    2009-08-07  CY2009Q2I  \n",
       "4    2009-11-06  CY2009Q3I  \n",
       "9    2011-02-25  CY2009Q4I  \n",
       "10   2010-05-07  CY2010Q1I  \n",
       "11   2010-08-06  CY2010Q2I  \n",
       "12   2010-11-05  CY2010Q3I  \n",
       "17   2012-02-28  CY2010Q4I  \n",
       "18   2011-05-09  CY2011Q1I  \n",
       "19   2011-08-05  CY2011Q2I  \n",
       "20   2011-11-09  CY2011Q3I  \n",
       "26   2013-02-27  CY2011Q4I  \n",
       "27   2012-05-09  CY2012Q1I  \n",
       "28   2012-08-02  CY2012Q2I  \n",
       "29   2012-11-07  CY2012Q3I  \n",
       "35   2014-03-03  CY2012Q4I  \n",
       "36   2013-05-08  CY2013Q1I  \n",
       "37   2013-08-01  CY2013Q2I  \n",
       "38   2013-11-06  CY2013Q3I  \n",
       "43   2015-02-26  CY2013Q4I  \n",
       "44   2014-05-06  CY2014Q1I  \n",
       "45   2014-08-05  CY2014Q2I  \n",
       "46   2014-11-04  CY2014Q3I  \n",
       "51   2016-02-29  CY2014Q4I  \n",
       "52   2015-05-06  CY2015Q1I  \n",
       "53   2015-08-04  CY2015Q2I  \n",
       "54   2015-11-06  CY2015Q3I  \n",
       "59   2017-02-28  CY2015Q4I  \n",
       "60   2016-05-09  CY2016Q1I  \n",
       "61   2016-08-04  CY2016Q2I  \n",
       "62   2016-11-04  CY2016Q3I  \n",
       "67   2018-02-27  CY2016Q4I  \n",
       "68   2017-05-04  CY2017Q1I  \n",
       "69   2017-08-03  CY2017Q2I  \n",
       "70   2017-11-02  CY2017Q3I  \n",
       "75   2019-02-28  CY2017Q4I  \n",
       "76   2018-05-03  CY2018Q1I  \n",
       "77   2018-08-02  CY2018Q2I  \n",
       "78   2018-11-08  CY2018Q3I  \n",
       "83   2020-02-27  CY2018Q4I  \n",
       "84   2019-05-02  CY2019Q1I  \n",
       "85   2019-08-08  CY2019Q2I  \n",
       "86   2019-11-07  CY2019Q3I  \n",
       "91   2021-02-23  CY2019Q4I  \n",
       "92   2020-05-05  CY2020Q1I  \n",
       "93   2020-08-04  CY2020Q2I  \n",
       "94   2020-10-29  CY2020Q3I  \n",
       "99   2022-02-25  CY2020Q4I  \n",
       "100  2021-05-04  CY2021Q1I  \n",
       "101  2021-08-03  CY2021Q2I  \n",
       "102  2021-11-02  CY2021Q3I  \n",
       "107  2023-02-23  CY2021Q4I  \n",
       "108  2022-05-03  CY2022Q1I  \n",
       "109  2022-08-01  CY2022Q2I  \n",
       "110  2022-11-07  CY2022Q3I  \n",
       "113  2023-07-31  CY2022Q4I  \n",
       "114  2023-05-04  CY2023Q1I  \n",
       "115  2023-07-31  CY2023Q2I  "
      ]
     },
     "execution_count": 22,
     "metadata": {},
     "output_type": "execute_result"
    }
   ],
   "source": [
    "# get just values reported in valid frame and plot them\n",
    "curr_assets_df[curr_assets_df.frame.notna()]"
   ]
  },
  {
   "cell_type": "code",
   "execution_count": null,
   "metadata": {},
   "outputs": [],
   "source": [
    "import plotly.express as px"
   ]
  },
  {
   "cell_type": "code",
   "execution_count": 27,
   "metadata": {},
   "outputs": [
    {
     "data": {
      "application/vnd.plotly.v1+json": {
       "config": {
        "plotlyServerURL": "https://plot.ly"
       },
       "data": [
        {
         "hovertemplate": "Quarter End=%{x}<br>Value ($)=%{y}<extra></extra>",
         "legendgroup": "",
         "line": {
          "color": "#636efa",
          "dash": "solid"
         },
         "marker": {
          "symbol": "circle"
         },
         "mode": "lines",
         "name": "",
         "orientation": "v",
         "showlegend": false,
         "type": "scatter",
         "x": [
          "2008-12-31",
          "2008-12-31",
          "2008-12-31",
          "2009-06-30",
          "2009-09-30",
          "2009-12-31",
          "2009-12-31",
          "2009-12-31",
          "2009-12-31",
          "2009-12-31",
          "2010-03-31",
          "2010-06-30",
          "2010-09-30",
          "2010-12-31",
          "2010-12-31",
          "2010-12-31",
          "2010-12-31",
          "2010-12-31",
          "2011-03-31",
          "2011-06-30",
          "2011-09-30",
          "2011-12-31",
          "2011-12-31",
          "2011-12-31",
          "2011-12-31",
          "2011-12-31",
          "2011-12-31",
          "2012-03-31",
          "2012-06-30",
          "2012-09-30",
          "2012-12-31",
          "2012-12-31",
          "2012-12-31",
          "2012-12-31",
          "2012-12-31",
          "2012-12-31",
          "2013-03-31",
          "2013-06-30",
          "2013-09-30",
          "2013-12-31",
          "2013-12-31",
          "2013-12-31",
          "2013-12-31",
          "2013-12-31",
          "2014-03-31",
          "2014-06-30",
          "2014-09-30",
          "2014-12-31",
          "2014-12-31",
          "2014-12-31",
          "2014-12-31",
          "2014-12-31",
          "2015-03-31",
          "2015-06-30",
          "2015-09-30",
          "2015-12-31",
          "2015-12-31",
          "2015-12-31",
          "2015-12-31",
          "2015-12-31",
          "2016-03-31",
          "2016-06-30",
          "2016-09-30",
          "2016-12-31",
          "2016-12-31",
          "2016-12-31",
          "2016-12-31",
          "2016-12-31",
          "2017-03-31",
          "2017-06-30",
          "2017-09-30",
          "2017-12-31",
          "2017-12-31",
          "2017-12-31",
          "2017-12-31",
          "2017-12-31",
          "2018-03-31",
          "2018-06-30",
          "2018-09-30",
          "2018-12-31",
          "2018-12-31",
          "2018-12-31",
          "2018-12-31",
          "2018-12-31",
          "2019-03-31",
          "2019-06-30",
          "2019-09-30",
          "2019-12-31",
          "2019-12-31",
          "2019-12-31",
          "2019-12-31",
          "2019-12-31",
          "2020-03-31",
          "2020-06-30",
          "2020-09-30",
          "2020-12-31",
          "2020-12-31",
          "2020-12-31",
          "2020-12-31",
          "2020-12-31",
          "2021-03-31",
          "2021-06-30",
          "2021-09-30",
          "2021-12-31",
          "2021-12-31",
          "2021-12-31",
          "2021-12-31",
          "2021-12-31",
          "2022-03-31",
          "2022-06-30",
          "2022-09-30",
          "2022-12-31",
          "2022-12-31",
          "2022-12-31",
          "2023-03-31",
          "2023-06-30"
         ],
         "xaxis": "x",
         "y": [
          5495000000,
          5259000000,
          5259000000,
          4510000000,
          4508000000,
          5329000000,
          5329000000,
          5329000000,
          5329000000,
          5329000000,
          4486000000,
          3968000000,
          4148000000,
          5385000000,
          5365000000,
          5399000000,
          5399000000,
          5432000000,
          4349000000,
          3954000000,
          4082000000,
          5380000000,
          5380000000,
          5380000000,
          5380000000,
          5380000000,
          5380000000,
          4566000000,
          4332000000,
          4702000000,
          6274000000,
          6274000000,
          6274000000,
          6274000000,
          6274000000,
          6274000000,
          5803000000,
          5629000000,
          8251000000,
          6241000000,
          6241000000,
          6241000000,
          6241000000,
          6241000000,
          5694000000,
          5474000000,
          5957000000,
          6909000000,
          6909000000,
          6909000000,
          6909000000,
          6541000000,
          5863000000,
          6051000000,
          6309000000,
          3387000000,
          3387000000,
          3387000000,
          3387000000,
          3387000000,
          4008000000,
          3420000000,
          5334000000,
          4830000000,
          4830000000,
          4830000000,
          4830000000,
          4830000000,
          4356000000,
          4352000000,
          5386000000,
          6520000000,
          6520000000,
          6520000000,
          6520000000,
          6520000000,
          6410000000,
          6134000000,
          4972000000,
          6106000000,
          6106000000,
          6106000000,
          6106000000,
          6106000000,
          6037000000,
          5663000000,
          6012000000,
          7292000000,
          7292000000,
          7292000000,
          7292000000,
          7292000000,
          7119000000,
          7719000000,
          9002000000,
          10565000000,
          10565000000,
          10565000000,
          10565000000,
          10565000000,
          10922000000,
          10887000000,
          11211000000,
          12556000000,
          12556000000,
          12556000000,
          12556000000,
          12556000000,
          12486000000,
          12507000000,
          13110000000,
          14469000000,
          14469000000,
          14469000000,
          14519000000,
          15496000000
         ],
         "yaxis": "y"
        }
       ],
       "layout": {
        "legend": {
         "tracegroupgap": 0
        },
        "template": {
         "data": {
          "bar": [
           {
            "error_x": {
             "color": "#2a3f5f"
            },
            "error_y": {
             "color": "#2a3f5f"
            },
            "marker": {
             "line": {
              "color": "#E5ECF6",
              "width": 0.5
             },
             "pattern": {
              "fillmode": "overlay",
              "size": 10,
              "solidity": 0.2
             }
            },
            "type": "bar"
           }
          ],
          "barpolar": [
           {
            "marker": {
             "line": {
              "color": "#E5ECF6",
              "width": 0.5
             },
             "pattern": {
              "fillmode": "overlay",
              "size": 10,
              "solidity": 0.2
             }
            },
            "type": "barpolar"
           }
          ],
          "carpet": [
           {
            "aaxis": {
             "endlinecolor": "#2a3f5f",
             "gridcolor": "white",
             "linecolor": "white",
             "minorgridcolor": "white",
             "startlinecolor": "#2a3f5f"
            },
            "baxis": {
             "endlinecolor": "#2a3f5f",
             "gridcolor": "white",
             "linecolor": "white",
             "minorgridcolor": "white",
             "startlinecolor": "#2a3f5f"
            },
            "type": "carpet"
           }
          ],
          "choropleth": [
           {
            "colorbar": {
             "outlinewidth": 0,
             "ticks": ""
            },
            "type": "choropleth"
           }
          ],
          "contour": [
           {
            "colorbar": {
             "outlinewidth": 0,
             "ticks": ""
            },
            "colorscale": [
             [
              0,
              "#0d0887"
             ],
             [
              0.1111111111111111,
              "#46039f"
             ],
             [
              0.2222222222222222,
              "#7201a8"
             ],
             [
              0.3333333333333333,
              "#9c179e"
             ],
             [
              0.4444444444444444,
              "#bd3786"
             ],
             [
              0.5555555555555556,
              "#d8576b"
             ],
             [
              0.6666666666666666,
              "#ed7953"
             ],
             [
              0.7777777777777778,
              "#fb9f3a"
             ],
             [
              0.8888888888888888,
              "#fdca26"
             ],
             [
              1,
              "#f0f921"
             ]
            ],
            "type": "contour"
           }
          ],
          "contourcarpet": [
           {
            "colorbar": {
             "outlinewidth": 0,
             "ticks": ""
            },
            "type": "contourcarpet"
           }
          ],
          "heatmap": [
           {
            "colorbar": {
             "outlinewidth": 0,
             "ticks": ""
            },
            "colorscale": [
             [
              0,
              "#0d0887"
             ],
             [
              0.1111111111111111,
              "#46039f"
             ],
             [
              0.2222222222222222,
              "#7201a8"
             ],
             [
              0.3333333333333333,
              "#9c179e"
             ],
             [
              0.4444444444444444,
              "#bd3786"
             ],
             [
              0.5555555555555556,
              "#d8576b"
             ],
             [
              0.6666666666666666,
              "#ed7953"
             ],
             [
              0.7777777777777778,
              "#fb9f3a"
             ],
             [
              0.8888888888888888,
              "#fdca26"
             ],
             [
              1,
              "#f0f921"
             ]
            ],
            "type": "heatmap"
           }
          ],
          "heatmapgl": [
           {
            "colorbar": {
             "outlinewidth": 0,
             "ticks": ""
            },
            "colorscale": [
             [
              0,
              "#0d0887"
             ],
             [
              0.1111111111111111,
              "#46039f"
             ],
             [
              0.2222222222222222,
              "#7201a8"
             ],
             [
              0.3333333333333333,
              "#9c179e"
             ],
             [
              0.4444444444444444,
              "#bd3786"
             ],
             [
              0.5555555555555556,
              "#d8576b"
             ],
             [
              0.6666666666666666,
              "#ed7953"
             ],
             [
              0.7777777777777778,
              "#fb9f3a"
             ],
             [
              0.8888888888888888,
              "#fdca26"
             ],
             [
              1,
              "#f0f921"
             ]
            ],
            "type": "heatmapgl"
           }
          ],
          "histogram": [
           {
            "marker": {
             "pattern": {
              "fillmode": "overlay",
              "size": 10,
              "solidity": 0.2
             }
            },
            "type": "histogram"
           }
          ],
          "histogram2d": [
           {
            "colorbar": {
             "outlinewidth": 0,
             "ticks": ""
            },
            "colorscale": [
             [
              0,
              "#0d0887"
             ],
             [
              0.1111111111111111,
              "#46039f"
             ],
             [
              0.2222222222222222,
              "#7201a8"
             ],
             [
              0.3333333333333333,
              "#9c179e"
             ],
             [
              0.4444444444444444,
              "#bd3786"
             ],
             [
              0.5555555555555556,
              "#d8576b"
             ],
             [
              0.6666666666666666,
              "#ed7953"
             ],
             [
              0.7777777777777778,
              "#fb9f3a"
             ],
             [
              0.8888888888888888,
              "#fdca26"
             ],
             [
              1,
              "#f0f921"
             ]
            ],
            "type": "histogram2d"
           }
          ],
          "histogram2dcontour": [
           {
            "colorbar": {
             "outlinewidth": 0,
             "ticks": ""
            },
            "colorscale": [
             [
              0,
              "#0d0887"
             ],
             [
              0.1111111111111111,
              "#46039f"
             ],
             [
              0.2222222222222222,
              "#7201a8"
             ],
             [
              0.3333333333333333,
              "#9c179e"
             ],
             [
              0.4444444444444444,
              "#bd3786"
             ],
             [
              0.5555555555555556,
              "#d8576b"
             ],
             [
              0.6666666666666666,
              "#ed7953"
             ],
             [
              0.7777777777777778,
              "#fb9f3a"
             ],
             [
              0.8888888888888888,
              "#fdca26"
             ],
             [
              1,
              "#f0f921"
             ]
            ],
            "type": "histogram2dcontour"
           }
          ],
          "mesh3d": [
           {
            "colorbar": {
             "outlinewidth": 0,
             "ticks": ""
            },
            "type": "mesh3d"
           }
          ],
          "parcoords": [
           {
            "line": {
             "colorbar": {
              "outlinewidth": 0,
              "ticks": ""
             }
            },
            "type": "parcoords"
           }
          ],
          "pie": [
           {
            "automargin": true,
            "type": "pie"
           }
          ],
          "scatter": [
           {
            "fillpattern": {
             "fillmode": "overlay",
             "size": 10,
             "solidity": 0.2
            },
            "type": "scatter"
           }
          ],
          "scatter3d": [
           {
            "line": {
             "colorbar": {
              "outlinewidth": 0,
              "ticks": ""
             }
            },
            "marker": {
             "colorbar": {
              "outlinewidth": 0,
              "ticks": ""
             }
            },
            "type": "scatter3d"
           }
          ],
          "scattercarpet": [
           {
            "marker": {
             "colorbar": {
              "outlinewidth": 0,
              "ticks": ""
             }
            },
            "type": "scattercarpet"
           }
          ],
          "scattergeo": [
           {
            "marker": {
             "colorbar": {
              "outlinewidth": 0,
              "ticks": ""
             }
            },
            "type": "scattergeo"
           }
          ],
          "scattergl": [
           {
            "marker": {
             "colorbar": {
              "outlinewidth": 0,
              "ticks": ""
             }
            },
            "type": "scattergl"
           }
          ],
          "scattermapbox": [
           {
            "marker": {
             "colorbar": {
              "outlinewidth": 0,
              "ticks": ""
             }
            },
            "type": "scattermapbox"
           }
          ],
          "scatterpolar": [
           {
            "marker": {
             "colorbar": {
              "outlinewidth": 0,
              "ticks": ""
             }
            },
            "type": "scatterpolar"
           }
          ],
          "scatterpolargl": [
           {
            "marker": {
             "colorbar": {
              "outlinewidth": 0,
              "ticks": ""
             }
            },
            "type": "scatterpolargl"
           }
          ],
          "scatterternary": [
           {
            "marker": {
             "colorbar": {
              "outlinewidth": 0,
              "ticks": ""
             }
            },
            "type": "scatterternary"
           }
          ],
          "surface": [
           {
            "colorbar": {
             "outlinewidth": 0,
             "ticks": ""
            },
            "colorscale": [
             [
              0,
              "#0d0887"
             ],
             [
              0.1111111111111111,
              "#46039f"
             ],
             [
              0.2222222222222222,
              "#7201a8"
             ],
             [
              0.3333333333333333,
              "#9c179e"
             ],
             [
              0.4444444444444444,
              "#bd3786"
             ],
             [
              0.5555555555555556,
              "#d8576b"
             ],
             [
              0.6666666666666666,
              "#ed7953"
             ],
             [
              0.7777777777777778,
              "#fb9f3a"
             ],
             [
              0.8888888888888888,
              "#fdca26"
             ],
             [
              1,
              "#f0f921"
             ]
            ],
            "type": "surface"
           }
          ],
          "table": [
           {
            "cells": {
             "fill": {
              "color": "#EBF0F8"
             },
             "line": {
              "color": "white"
             }
            },
            "header": {
             "fill": {
              "color": "#C8D4E3"
             },
             "line": {
              "color": "white"
             }
            },
            "type": "table"
           }
          ]
         },
         "layout": {
          "annotationdefaults": {
           "arrowcolor": "#2a3f5f",
           "arrowhead": 0,
           "arrowwidth": 1
          },
          "autotypenumbers": "strict",
          "coloraxis": {
           "colorbar": {
            "outlinewidth": 0,
            "ticks": ""
           }
          },
          "colorscale": {
           "diverging": [
            [
             0,
             "#8e0152"
            ],
            [
             0.1,
             "#c51b7d"
            ],
            [
             0.2,
             "#de77ae"
            ],
            [
             0.3,
             "#f1b6da"
            ],
            [
             0.4,
             "#fde0ef"
            ],
            [
             0.5,
             "#f7f7f7"
            ],
            [
             0.6,
             "#e6f5d0"
            ],
            [
             0.7,
             "#b8e186"
            ],
            [
             0.8,
             "#7fbc41"
            ],
            [
             0.9,
             "#4d9221"
            ],
            [
             1,
             "#276419"
            ]
           ],
           "sequential": [
            [
             0,
             "#0d0887"
            ],
            [
             0.1111111111111111,
             "#46039f"
            ],
            [
             0.2222222222222222,
             "#7201a8"
            ],
            [
             0.3333333333333333,
             "#9c179e"
            ],
            [
             0.4444444444444444,
             "#bd3786"
            ],
            [
             0.5555555555555556,
             "#d8576b"
            ],
            [
             0.6666666666666666,
             "#ed7953"
            ],
            [
             0.7777777777777778,
             "#fb9f3a"
            ],
            [
             0.8888888888888888,
             "#fdca26"
            ],
            [
             1,
             "#f0f921"
            ]
           ],
           "sequentialminus": [
            [
             0,
             "#0d0887"
            ],
            [
             0.1111111111111111,
             "#46039f"
            ],
            [
             0.2222222222222222,
             "#7201a8"
            ],
            [
             0.3333333333333333,
             "#9c179e"
            ],
            [
             0.4444444444444444,
             "#bd3786"
            ],
            [
             0.5555555555555556,
             "#d8576b"
            ],
            [
             0.6666666666666666,
             "#ed7953"
            ],
            [
             0.7777777777777778,
             "#fb9f3a"
            ],
            [
             0.8888888888888888,
             "#fdca26"
            ],
            [
             1,
             "#f0f921"
            ]
           ]
          },
          "colorway": [
           "#636efa",
           "#EF553B",
           "#00cc96",
           "#ab63fa",
           "#FFA15A",
           "#19d3f3",
           "#FF6692",
           "#B6E880",
           "#FF97FF",
           "#FECB52"
          ],
          "font": {
           "color": "#2a3f5f"
          },
          "geo": {
           "bgcolor": "white",
           "lakecolor": "white",
           "landcolor": "#E5ECF6",
           "showlakes": true,
           "showland": true,
           "subunitcolor": "white"
          },
          "hoverlabel": {
           "align": "left"
          },
          "hovermode": "closest",
          "mapbox": {
           "style": "light"
          },
          "paper_bgcolor": "white",
          "plot_bgcolor": "#E5ECF6",
          "polar": {
           "angularaxis": {
            "gridcolor": "white",
            "linecolor": "white",
            "ticks": ""
           },
           "bgcolor": "#E5ECF6",
           "radialaxis": {
            "gridcolor": "white",
            "linecolor": "white",
            "ticks": ""
           }
          },
          "scene": {
           "xaxis": {
            "backgroundcolor": "#E5ECF6",
            "gridcolor": "white",
            "gridwidth": 2,
            "linecolor": "white",
            "showbackground": true,
            "ticks": "",
            "zerolinecolor": "white"
           },
           "yaxis": {
            "backgroundcolor": "#E5ECF6",
            "gridcolor": "white",
            "gridwidth": 2,
            "linecolor": "white",
            "showbackground": true,
            "ticks": "",
            "zerolinecolor": "white"
           },
           "zaxis": {
            "backgroundcolor": "#E5ECF6",
            "gridcolor": "white",
            "gridwidth": 2,
            "linecolor": "white",
            "showbackground": true,
            "ticks": "",
            "zerolinecolor": "white"
           }
          },
          "shapedefaults": {
           "line": {
            "color": "#2a3f5f"
           }
          },
          "ternary": {
           "aaxis": {
            "gridcolor": "white",
            "linecolor": "white",
            "ticks": ""
           },
           "baxis": {
            "gridcolor": "white",
            "linecolor": "white",
            "ticks": ""
           },
           "bgcolor": "#E5ECF6",
           "caxis": {
            "gridcolor": "white",
            "linecolor": "white",
            "ticks": ""
           }
          },
          "title": {
           "x": 0.05
          },
          "xaxis": {
           "automargin": true,
           "gridcolor": "white",
           "linecolor": "white",
           "ticks": "",
           "title": {
            "standoff": 15
           },
           "zerolinecolor": "white",
           "zerolinewidth": 2
          },
          "yaxis": {
           "automargin": true,
           "gridcolor": "white",
           "linecolor": "white",
           "ticks": "",
           "title": {
            "standoff": 15
           },
           "zerolinecolor": "white",
           "zerolinewidth": 2
          }
         }
        },
        "title": {
         "text": "Activision Blizzard, Inc., : Current Assets"
        },
        "xaxis": {
         "anchor": "y",
         "domain": [
          0,
          1
         ],
         "title": {
          "text": "Quarter End"
         }
        },
        "yaxis": {
         "anchor": "x",
         "domain": [
          0,
          1
         ],
         "title": {
          "text": "Value ($)"
         }
        }
       }
      }
     },
     "metadata": {},
     "output_type": "display_data"
    }
   ],
   "source": [
    "pd.options.plotting.backend = \"plotly\" \n",
    "\n",
    "curr_assets_df.plot(x=\"end\", y=\"val\", \n",
    "                    title=f\"{company_filings['name']}, : Current Assets\",\n",
    "                   labels= {\n",
    "                       \"val\": \"Value ($)\",\n",
    "                       \"end\": \"Quarter End\"\n",
    "                   })"
   ]
  },
  {
   "cell_type": "code",
   "execution_count": null,
   "metadata": {},
   "outputs": [],
   "source": []
  }
 ],
 "metadata": {
  "kernelspec": {
   "display_name": "base",
   "language": "python",
   "name": "python3"
  },
  "language_info": {
   "codemirror_mode": {
    "name": "ipython",
    "version": 3
   },
   "file_extension": ".py",
   "mimetype": "text/x-python",
   "name": "python",
   "nbconvert_exporter": "python",
   "pygments_lexer": "ipython3",
   "version": "3.11.5"
  }
 },
 "nbformat": 4,
 "nbformat_minor": 2
}
